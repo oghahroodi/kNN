{
 "cells": [
  {
   "cell_type": "code",
   "execution_count": 1,
   "metadata": {},
   "outputs": [],
   "source": [
    "from kNN import *\n",
    "from utils import *"
   ]
  },
  {
   "cell_type": "code",
   "execution_count": 2,
   "metadata": {},
   "outputs": [],
   "source": [
    "X, Y = read_data('heart.csv', \"target\")\n",
    "X, Y = shuffle(X, Y)\n",
    "\n",
    "for i in range(len(X.T)):\n",
    "    X.T[i] = normalize_data(X.T[i])\n",
    "\n",
    "X_train, Y_train, X_test, Y_test = split(X, Y, 0.8)"
   ]
  },
  {
   "cell_type": "code",
   "execution_count": 3,
   "metadata": {},
   "outputs": [
    {
     "name": "stdout",
     "output_type": "stream",
     "text": [
      "k =  1\n",
      "Accuracy, Precision, Recall, Specificity, f1(Train):  (1.0, 1.0, 1.0, 1.0, 1.0)\n",
      "Accuracy, Precision, Recall, Specificity, f1(Test):  (0.7540983606557377, 0.8214285714285714, 0.696969696969697, 0.8214285714285714, 0.7540983606557378)\n",
      "k =  2\n",
      "Accuracy, Precision, Recall, Specificity, f1(Train):  (0.8677685950413223, 0.8048780487804879, 1.0, 0.7090909090909091, 0.8918918918918919)\n",
      "Accuracy, Precision, Recall, Specificity, f1(Test):  (0.7049180327868853, 0.6829268292682927, 0.8484848484848485, 0.5357142857142857, 0.7567567567567567)\n",
      "k =  3\n",
      "Accuracy, Precision, Recall, Specificity, f1(Train):  (0.9008264462809917, 0.9029850746268657, 0.9166666666666666, 0.8818181818181818, 0.9097744360902257)\n",
      "Accuracy, Precision, Recall, Specificity, f1(Test):  (0.7540983606557377, 0.8, 0.7272727272727273, 0.7857142857142857, 0.761904761904762)\n",
      "k =  4\n",
      "Accuracy, Precision, Recall, Specificity, f1(Train):  (0.8636363636363636, 0.8413793103448276, 0.9242424242424242, 0.7909090909090909, 0.8808664259927798)\n",
      "Accuracy, Precision, Recall, Specificity, f1(Test):  (0.7704918032786885, 0.7714285714285715, 0.8181818181818182, 0.7142857142857143, 0.7941176470588236)\n",
      "k =  5\n",
      "Accuracy, Precision, Recall, Specificity, f1(Train):  (0.859504132231405, 0.855072463768116, 0.8939393939393939, 0.8181818181818182, 0.8740740740740741)\n",
      "Accuracy, Precision, Recall, Specificity, f1(Test):  (0.7377049180327869, 0.7575757575757576, 0.7575757575757576, 0.7142857142857143, 0.7575757575757576)\n",
      "k =  6\n",
      "Accuracy, Precision, Recall, Specificity, f1(Train):  (0.8512396694214877, 0.8287671232876712, 0.9166666666666666, 0.7727272727272727, 0.8705035971223022)\n",
      "Accuracy, Precision, Recall, Specificity, f1(Test):  (0.7540983606557377, 0.75, 0.8181818181818182, 0.6785714285714286, 0.7826086956521738)\n",
      "k =  7\n",
      "Accuracy, Precision, Recall, Specificity, f1(Train):  (0.8553719008264463, 0.8540145985401459, 0.8863636363636364, 0.8181818181818182, 0.8698884758364311)\n",
      "Accuracy, Precision, Recall, Specificity, f1(Test):  (0.7377049180327869, 0.7575757575757576, 0.7575757575757576, 0.7142857142857143, 0.7575757575757576)\n",
      "k =  8\n",
      "Accuracy, Precision, Recall, Specificity, f1(Train):  (0.8553719008264463, 0.8391608391608392, 0.9090909090909091, 0.7909090909090909, 0.8727272727272727)\n",
      "Accuracy, Precision, Recall, Specificity, f1(Test):  (0.7213114754098361, 0.7105263157894737, 0.8181818181818182, 0.6071428571428571, 0.7605633802816901)\n",
      "k =  9\n",
      "Accuracy, Precision, Recall, Specificity, f1(Train):  (0.8553719008264463, 0.8489208633093526, 0.8939393939393939, 0.8090909090909091, 0.8708487084870848)\n",
      "Accuracy, Precision, Recall, Specificity, f1(Test):  (0.7377049180327869, 0.7575757575757576, 0.7575757575757576, 0.7142857142857143, 0.7575757575757576)\n",
      "k =  10\n",
      "Accuracy, Precision, Recall, Specificity, f1(Train):  (0.8347107438016529, 0.8194444444444444, 0.8939393939393939, 0.7636363636363637, 0.855072463768116)\n",
      "Accuracy, Precision, Recall, Specificity, f1(Test):  (0.7049180327868853, 0.7142857142857143, 0.7575757575757576, 0.6428571428571429, 0.7352941176470589)\n",
      "k =  11\n",
      "Accuracy, Precision, Recall, Specificity, f1(Train):  (0.8305785123966942, 0.8226950354609929, 0.8787878787878788, 0.7727272727272727, 0.8498168498168498)\n",
      "Accuracy, Precision, Recall, Specificity, f1(Test):  (0.7049180327868853, 0.7272727272727273, 0.7272727272727273, 0.6785714285714286, 0.7272727272727273)\n",
      "k =  12\n",
      "Accuracy, Precision, Recall, Specificity, f1(Train):  (0.8099173553719008, 0.7905405405405406, 0.8863636363636364, 0.7181818181818181, 0.8357142857142856)\n",
      "Accuracy, Precision, Recall, Specificity, f1(Test):  (0.7213114754098361, 0.7352941176470589, 0.7575757575757576, 0.6785714285714286, 0.746268656716418)\n",
      "k =  13\n",
      "Accuracy, Precision, Recall, Specificity, f1(Train):  (0.8181818181818182, 0.8055555555555556, 0.8787878787878788, 0.7454545454545455, 0.8405797101449276)\n",
      "Accuracy, Precision, Recall, Specificity, f1(Test):  (0.7213114754098361, 0.7352941176470589, 0.7575757575757576, 0.6785714285714286, 0.746268656716418)\n",
      "k =  14\n",
      "Accuracy, Precision, Recall, Specificity, f1(Train):  (0.8181818181818182, 0.7894736842105263, 0.9090909090909091, 0.7090909090909091, 0.8450704225352113)\n",
      "Accuracy, Precision, Recall, Specificity, f1(Test):  (0.7049180327868853, 0.7142857142857143, 0.7575757575757576, 0.6428571428571429, 0.7352941176470589)\n",
      "k =  15\n",
      "Accuracy, Precision, Recall, Specificity, f1(Train):  (0.8347107438016529, 0.8108108108108109, 0.9090909090909091, 0.7454545454545455, 0.8571428571428571)\n",
      "Accuracy, Precision, Recall, Specificity, f1(Test):  (0.7049180327868853, 0.7142857142857143, 0.7575757575757576, 0.6428571428571429, 0.7352941176470589)\n"
     ]
    }
   ],
   "source": [
    "acc_test = []\n",
    "acc_train = []\n",
    "\n",
    "for i in range(1, 16):\n",
    "    k = kNN(i)\n",
    "    k.fit(X_train, Y_train)\n",
    "    Y_pred_test = []\n",
    "    for j in X_test:\n",
    "        Y_pred_test.append(k.predict(j))\n",
    "    Y_pred_train = []\n",
    "    for j in X_train:\n",
    "        Y_pred_train.append(k.predict(j))\n",
    "    print('k = ', i)\n",
    "    print('Accuracy, Precision, Recall, Specificity, f1(Train): ', report_classification(Y_pred_train, Y_train))\n",
    "    print('Accuracy, Precision, Recall, Specificity, f1(Test): ', report_classification(Y_pred_test, Y_test))\n",
    "    acc_test.append(accuracy(Y_pred_test, Y_test))\n",
    "    acc_train.append(accuracy(Y_pred_train, Y_train))"
   ]
  },
  {
   "cell_type": "code",
   "execution_count": 4,
   "metadata": {},
   "outputs": [
    {
     "data": {
      "image/png": "[encoded data removed]",
      "text/plain": [
       "<Figure size 432x288 with 1 Axes>"
      ]
     },
     "metadata": {
      "needs_background": "light"
     },
     "output_type": "display_data"
    }
   ],
   "source": [
    "import matplotlib.pyplot as plt\n",
    "plt.plot(acc_train)\n",
    "plt.plot(acc_test)\n",
    "plt.show()"
   ]
  },
  {
   "cell_type": "code",
   "execution_count": 5,
   "metadata": {},
   "outputs": [
    {
     "name": "stdout",
     "output_type": "stream",
     "text": [
      "73.77049180327869\n"
     ]
    }
   ],
   "source": [
    "best_k = 7\n",
    "print(acc_test[best_k-1]*100)"
   ]
  }
 ],
 "metadata": {
  "interpreter": {
   "hash": "aee8b7b246df8f9039afb4144a1f6fd8d2ca17a180786b69acc140d282b71a49"
  },
  "kernelspec": {
   "display_name": "Python 3.9.7 64-bit",
   "language": "python",
   "name": "python3"
  },
  "language_info": {
   "codemirror_mode": {
    "name": "ipython",
    "version": 3
   },
   "file_extension": ".py",
   "mimetype": "text/x-python",
   "name": "python",
   "nbconvert_exporter": "python",
   "pygments_lexer": "ipython3",
   "version": "3.8.8"
  },
  "orig_nbformat": 4
 },
 "nbformat": 4,
 "nbformat_minor": 2
}
